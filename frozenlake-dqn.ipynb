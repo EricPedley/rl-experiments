{
 "cells": [
  {
   "cell_type": "code",
   "execution_count": 8,
   "metadata": {},
   "outputs": [],
   "source": [
    "import gym\n",
    "from gym.envs.registration import register\n",
    "import numpy as np\n",
    "import random\n",
    "import tensorflow as tf\n",
    "import tensorflow.keras as keras\n",
    "import tensorflow.keras.layers as layers\n",
    "from IPython.display import clear_output\n",
    "from collections import deque"
   ]
  },
  {
   "cell_type": "code",
   "execution_count": 9,
   "metadata": {},
   "outputs": [],
   "source": [
    "\n",
    "try:\n",
    "    register(\n",
    "        id=\"FrozenLakeNoSlip-v0\",\n",
    "        entry_point=\"gym.envs.toy_text:FrozenLakeEnv\",\n",
    "        kwargs={'map_name': \"4x4\", \"is_slippery\": False},\n",
    "        max_episode_steps=100,\n",
    "        reward_threshold=0.78  # optimum = .8194\n",
    "    )\n",
    "except:\n",
    "    pass\n",
    "env = gym.make(\"FrozenLakeNoSlip-v0\")\n",
    "discount_rate=0.97\n",
    "learning_rate=0.001\n"
   ]
  },
  {
   "cell_type": "code",
   "execution_count": 10,
   "metadata": {},
   "outputs": [],
   "source": [
    "class CustomSquaredError(keras.losses.Loss):\n",
    "  def call(self, y_true, y_pred):\n",
    "    #y_true[0] is q_target and y_true[1] is action\n",
    "    reduced_pred = tf.reduce_sum(tf.multiply(y_pred,tf.one_hot([y_true[1]],depth=4)))\n",
    "    #ans = tf.math.squared_difference(reduced_pred,y_true[0])\n",
    "    ans = tf.reduce_sum(tf.math.squared_difference(y_true[0],reduced_pred))\n",
    "    return ans"
   ]
  },
  {
   "cell_type": "markdown",
   "metadata": {},
   "source": [
    "The custom squared error function was raising this error:\n",
    "\n",
    "ValueError: Index out of range using input dim 0; input has only 0 dims for '{{node CustomMeanSquaredError/strided_slice}} = StridedSlice[Index=DT_INT32, T=DT_FLOAT, begin_mask=0, ellipsis_mask=0, end_mask=0, new_axis_mask=0, shrink_axis_mask=1](Cast, CustomMeanSquaredError/strided_slice/stack, CustomMeanSquaredError/strided_slice/stack_1, CustomMeanSquaredError/strided_slice/stack_2)' with input shapes: [], [1], [1], [1] and with computed input tensors: input[3] = <1>.\n",
    "\n",
    "The fix was, instead of passsing in q_target as the true value, pass in a tensor containing q_target and reference its first index.\n",
    "\n",
    "For reducing the prediction from a q state to one q value, you have to use sum because sometimes the q value is negative, so max won't work"
   ]
  },
  {
   "cell_type": "markdown",
   "metadata": {},
   "source": [
    "Taking the max of the q-state as the q-value for the current action doesn't work because sometimes the action is random, so then its q value isn't the max of the q-state."
   ]
  },
  {
   "cell_type": "code",
   "execution_count": 11,
   "metadata": {},
   "outputs": [
    {
     "name": "stdout",
     "output_type": "stream",
     "text": [
      "Model: \"sequential_1\"\n",
      "_________________________________________________________________\n",
      "Layer (type)                 Output Shape              Param #   \n",
      "=================================================================\n",
      "dense_1 (Dense)              (None, 4)                 68        \n",
      "=================================================================\n",
      "Total params: 68\n",
      "Trainable params: 68\n",
      "Non-trainable params: 0\n",
      "_________________________________________________________________\n"
     ]
    }
   ],
   "source": [
    "model = keras.Sequential([\n",
    "    layers.Dense(units=4, input_shape=[16])])\n",
    "model.compile(\n",
    "    optimizer=keras.optimizers.Adam(learning_rate),\n",
    "    loss=CustomSquaredError()\n",
    ")\n",
    "epsilon = 1.0\n",
    "exp_buffer = deque(maxlen=1000)\n",
    "model.summary()"
   ]
  },
  {
   "cell_type": "code",
   "execution_count": 12,
   "metadata": {},
   "outputs": [],
   "source": [
    "def makeDecision(state):\n",
    "    action_greedy = np.argmax(model.predict(tf.one_hot([state],depth=16)))\n",
    "    action_random = random.randint(0,3)\n",
    "    return action_greedy if random.random()>epsilon else action_random\n",
    "    "
   ]
  },
  {
   "cell_type": "code",
   "execution_count": 13,
   "metadata": {},
   "outputs": [],
   "source": [
    "def train(experience):\n",
    "    global epsilon\n",
    "    batch_size=50\n",
    "    exp_buffer.append(experience)\n",
    "    samples = random.choices(exp_buffer,k=batch_size)\n",
    "    state,action,next_state,reward,done=(list(col) for col in zip(*samples))\n",
    "    q_next = model.predict(tf.one_hot([next_state],depth=16))[0]#next_state is state, but after the agent made an action\n",
    "    #q_next is now the predicted q value for the next state, but wrapped like [[value]]\n",
    "    q_next[done]=np.zeros(4)#syntax shortcut. for each index where the corresponding index of done is the same, set it to zeros\n",
    "    q_target = reward +  discount_rate*np.max(q_next,axis=1)#for a win, q_target will be 1, and -0.5 for a loss\n",
    "    current_state = tf.one_hot([state],depth=16)\n",
    "    model.train_on_batch(x=current_state,y=tf.constant([q_target,action]))#q_target*tf.ones(shape=(4,)))\n",
    "\n",
    "    if experience[4]:#if the current iteration is done(the done variable is now a list of the values for each experience in the batch)\n",
    "        epsilon*=0.99\n"
   ]
  },
  {
   "cell_type": "markdown",
   "metadata": {},
   "source": [
    "IF the below snippet raises \"ValueError: Creating variables on a non-first call to a function decorated with tf.function.\", run the model initialization cell again and it should work"
   ]
  },
  {
   "cell_type": "code",
   "execution_count": 14,
   "metadata": {},
   "outputs": [
    {
     "name": "stdout",
     "output_type": "stream",
     "text": [
      "wins: 1, total reward: -573.0\n"
     ]
    }
   ],
   "source": [
    "total_reward = 0\n",
    "wins=0\n",
    "episodes = 100\n",
    "samples=30#For central limit theorem\n",
    "verbose=True\n",
    "for experiment in range(30):\n",
    "    model = keras.Sequential([\n",
    "    layers.Dense(units=4, input_shape=[16])])\n",
    "    model.compile(\n",
    "        optimizer=keras.optimizers.Adam(learning_rate),\n",
    "        loss=CustomSquaredError()\n",
    "    )\n",
    "    epsilon = 1.0\n",
    "    exp_buffer = deque(maxlen=1000)\n",
    "    for episode in range(episodes):\n",
    "        done = False\n",
    "        state = env.reset()\n",
    "        while not done:\n",
    "            action = makeDecision(state)\n",
    "            next_state, reward, done, info = env.step(action)#reward is one if the goal is reached and zero if the goal isn't reached\n",
    "            if state==next_state or (done and next_state!=15):\n",
    "                reward=-1\n",
    "            train((state,action,next_state,reward,done))\n",
    "            state=next_state\n",
    "            total_reward+=reward\n",
    "            if reward>0:\n",
    "                wins+=1\n",
    "            if verbose:\n",
    "                print(f\"Epsiode: {episode}, total_reward: {total_reward}, wins: {wins}, epsilon: {epsilon}\")\n",
    "                env.render()\n",
    "                print(model.layers[0].get_weights()[0])\n",
    "                clear_output(wait=True)\n",
    "\n",
    "\n",
    "print(f\"wins: {wins}, total reward: {total_reward}\")"
   ]
  },
  {
   "cell_type": "code",
   "execution_count": null,
   "metadata": {},
   "outputs": [],
   "source": []
  },
  {
   "cell_type": "code",
   "execution_count": null,
   "metadata": {},
   "outputs": [],
   "source": []
  }
 ],
 "metadata": {
  "kernelspec": {
   "display_name": "Python 3",
   "language": "python",
   "name": "python3"
  },
  "language_info": {
   "codemirror_mode": {
    "name": "ipython",
    "version": 3
   },
   "file_extension": ".py",
   "mimetype": "text/x-python",
   "name": "python",
   "nbconvert_exporter": "python",
   "pygments_lexer": "ipython3",
   "version": "3.8.6"
  }
 },
 "nbformat": 4,
 "nbformat_minor": 4
}
