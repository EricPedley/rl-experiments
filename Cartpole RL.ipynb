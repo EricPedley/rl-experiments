{
 "cells": [
  {
   "cell_type": "code",
   "execution_count": 1,
   "id": "simplified-watershed",
   "metadata": {
    "tags": []
   },
   "outputs": [],
   "source": [
    "import gym\n",
    "import numpy as np\n",
    "from IPython.display import clear_output\n",
    "from collections import deque\n",
    "import matplotlib.pyplot as plt\n",
    "import random"
   ]
  },
  {
   "cell_type": "code",
   "execution_count": 2,
   "id": "furnished-robin",
   "metadata": {},
   "outputs": [],
   "source": [
    "import tensorflow as tf\n",
    "from tensorflow import keras\n",
    "import tensorflow.keras.layers as layers"
   ]
  },
  {
   "cell_type": "code",
   "execution_count": 3,
   "id": "viral-enforcement",
   "metadata": {},
   "outputs": [
    {
     "name": "stdout",
     "output_type": "stream",
     "text": [
      "Model: \"sequential\"\n",
      "_________________________________________________________________\n",
      "Layer (type)                 Output Shape              Param #   \n",
      "=================================================================\n",
      "dense (Dense)                (None, 2)                 10        \n",
      "=================================================================\n",
      "Total params: 10\n",
      "Trainable params: 10\n",
      "Non-trainable params: 0\n",
      "_________________________________________________________________\n"
     ]
    }
   ],
   "source": [
    "learning_rate=0.01\n",
    "model = keras.Sequential([\n",
    "    layers.Dense(2, input_shape=(4,))\n",
    "])\n",
    "model.compile(\n",
    "    optimizer=keras.optimizers.Adam(learning_rate),\n",
    "    loss=keras.losses.MeanSquaredError()\n",
    ")\n",
    "model.summary()"
   ]
  },
  {
   "cell_type": "code",
   "execution_count": 4,
   "id": "binary-majority",
   "metadata": {},
   "outputs": [],
   "source": [
    "epsilon = 1.0\n",
    "exp_buffer = deque(maxlen=1000)\n",
    "gamma = 0.99#discount rate"
   ]
  },
  {
   "cell_type": "code",
   "execution_count": 5,
   "id": "alien-above",
   "metadata": {},
   "outputs": [
    {
     "name": "stdout",
     "output_type": "stream",
     "text": [
      "<TimeLimit<CartPoleEnv<CartPole-v1>>>\n"
     ]
    }
   ],
   "source": [
    "env = gym.make(\"CartPole-v1\")\n",
    "print(env)"
   ]
  },
  {
   "cell_type": "code",
   "execution_count": 6,
   "id": "irish-economy",
   "metadata": {},
   "outputs": [],
   "source": [
    "def train_from_buffer():\n",
    "    global epsilon, exp_buffer\n",
    "    batch = random.choices(exp_buffer, k=min(50,len(exp_buffer)))\n",
    "    #print(f\"batch: {batch}\\n\")\n",
    "    # batch starts as a list of all the experiences.\n",
    "    # zip(*batches) creates a zip object (iterable without indexed access) where each \n",
    "    # item is a tuple containing all the categories of one experience (for example, one tuple contains all the states)\n",
    "    # then, each tuple is converted to a list\n",
    "    states, actions, next_states, rewards, done_list, info_list = (list(col) for col in zip(*batch))\n",
    "    predictions = model.predict_on_batch(np.array(states))\n",
    "    next_predictions = model.predict_on_batch(np.array(next_states))\n",
    "    \n",
    "    q_next_list = [np.max(pred) for pred in next_predictions]\n",
    "    q_target_list = [reward*(1-int(done))+gamma*q_next*done for (reward, q_next, done) in zip(rewards,q_next_list,done_list)]\n",
    "    \n",
    "    for prediction,q_target in zip(predictions,q_target_list):\n",
    "        prediction[action] = q_target\n",
    "    \n",
    "    model.train_on_batch(np.array(states),np.array(predictions))\n",
    "    if epsilon>0.01:\n",
    "        epsilon*=0.99"
   ]
  },
  {
   "cell_type": "code",
   "execution_count": 7,
   "id": "transsexual-bradford",
   "metadata": {},
   "outputs": [],
   "source": [
    "def get_action(state):\n",
    "    return np.argmax(model.predict(np.expand_dims(state,0))[0]) if random.random()>epsilon else random.randint(0,1)"
   ]
  },
  {
   "cell_type": "code",
   "execution_count": 8,
   "id": "compatible-employer",
   "metadata": {
    "scrolled": false,
    "tags": []
   },
   "outputs": [
    {
     "name": "stdout",
     "output_type": "stream",
     "text": [
      "starting!\n",
      "reward for episode 0 (epsilon = 0.8345137614500874): 18.0\n",
      "reward for episode 1 (epsilon = 0.6689717585696803): 22.0\n",
      "reward for episode 2 (epsilon = 0.5582661385478638): 18.0\n",
      "reward for episode 3 (epsilon = 0.49483865960020695): 12.0\n",
      "reward for episode 4 (epsilon = 0.41294967113388825): 18.0\n",
      "reward for episode 5 (epsilon = 0.3516092065580223): 16.0\n",
      "reward for episode 6 (epsilon = 0.3212010745647914): 9.0\n",
      "reward for episode 7 (epsilon = 0.28186069554046345): 13.0\n",
      "reward for episode 8 (epsilon = 0.24241664604458016): 15.0\n",
      "reward for episode 9 (epsilon = 0.22145178723886094): 9.0\n",
      "reward for episode 10 (epsilon = 0.1962915140230253): 12.0\n",
      "reward for episode 11 (epsilon = 0.18112695312597027): 8.0\n",
      "reward for episode 12 (epsilon = 0.15577974928671176): 15.0\n",
      "reward for episode 13 (epsilon = 0.13808081308747278): 12.0\n",
      "reward for episode 14 (epsilon = 0.12741333767875881): 8.0\n",
      "reward for episode 15 (epsilon = 0.11523033871371341): 10.0\n",
      "reward for episode 16 (epsilon = 0.10317013030157676): 11.0\n",
      "reward for episode 17 (epsilon = 0.09237216435585804): 11.0\n",
      "reward for episode 18 (epsilon = 0.08187728905270841): 12.0\n",
      "reward for episode 19 (epsilon = 0.07404835256958411): 10.0\n",
      "reward for episode 20 (epsilon = 0.066968002747864): 10.0\n",
      "reward for episode 21 (epsilon = 0.06117642553970562): 9.0\n",
      "reward for episode 22 (epsilon = 0.05368359952302266): 13.0\n",
      "reward for episode 23 (epsilon = 0.04904089407128576): 9.0\n",
      "reward for episode 24 (epsilon = 0.04479970256613776): 9.0\n",
      "reward for episode 25 (epsilon = 0.040516047966540916): 10.0\n",
      "reward for episode 26 (epsilon = 0.03664198753113651): 10.0\n",
      "reward for episode 27 (epsilon = 0.03313835671585597): 10.0\n",
      "reward for episode 28 (epsilon = 0.03027246041319977): 9.0\n",
      "reward for episode 29 (epsilon = 0.027377870564111496): 10.0\n",
      "reward for episode 30 (epsilon = 0.02476005539009362): 10.0\n",
      "reward for episode 31 (epsilon = 0.02261873764750081): 9.0\n",
      "reward for episode 32 (epsilon = 0.020455980887726547): 10.0\n",
      "reward for episode 33 (epsilon = 0.018875647833468602): 8.0\n",
      "reward for episode 34 (epsilon = 0.017070797554767782): 10.0\n",
      "reward for episode 35 (epsilon = 0.015438523314636115): 10.0\n",
      "reward for episode 36 (epsilon = 0.013962323750362413): 10.0\n",
      "reward for episode 37 (epsilon = 0.01262727532529747): 10.0\n",
      "reward for episode 38 (epsilon = 0.011535233798383842): 9.0\n",
      "reward for episode 39 (epsilon = 0.010537635028579873): 9.0\n",
      "reward for episode 40 (epsilon = 0.009920974201040588): 9.0\n",
      "reward for episode 41 (epsilon = 0.009920974201040588): 8.0\n",
      "reward for episode 42 (epsilon = 0.009920974201040588): 10.0\n",
      "reward for episode 43 (epsilon = 0.009920974201040588): 10.0\n",
      "reward for episode 44 (epsilon = 0.009920974201040588): 9.0\n",
      "reward for episode 45 (epsilon = 0.009920974201040588): 9.0\n",
      "reward for episode 46 (epsilon = 0.009920974201040588): 9.0\n",
      "reward for episode 47 (epsilon = 0.009920974201040588): 9.0\n",
      "reward for episode 48 (epsilon = 0.009920974201040588): 9.0\n",
      "reward for episode 49 (epsilon = 0.009920974201040588): 10.0\n",
      "reward for episode 50 (epsilon = 0.009920974201040588): 8.0\n",
      "reward for episode 51 (epsilon = 0.009920974201040588): 10.0\n",
      "reward for episode 52 (epsilon = 0.009920974201040588): 9.0\n",
      "reward for episode 53 (epsilon = 0.009920974201040588): 9.0\n",
      "reward for episode 54 (epsilon = 0.009920974201040588): 9.0\n",
      "reward for episode 55 (epsilon = 0.009920974201040588): 10.0\n",
      "reward for episode 56 (epsilon = 0.009920974201040588): 9.0\n",
      "reward for episode 57 (epsilon = 0.009920974201040588): 10.0\n",
      "reward for episode 58 (epsilon = 0.009920974201040588): 9.0\n",
      "reward for episode 59 (epsilon = 0.009920974201040588): 8.0\n",
      "reward for episode 60 (epsilon = 0.009920974201040588): 8.0\n",
      "reward for episode 61 (epsilon = 0.009920974201040588): 10.0\n",
      "reward for episode 62 (epsilon = 0.009920974201040588): 9.0\n",
      "reward for episode 63 (epsilon = 0.009920974201040588): 9.0\n",
      "reward for episode 64 (epsilon = 0.009920974201040588): 8.0\n",
      "reward for episode 65 (epsilon = 0.009920974201040588): 8.0\n",
      "reward for episode 66 (epsilon = 0.009920974201040588): 10.0\n",
      "reward for episode 67 (epsilon = 0.009920974201040588): 8.0\n",
      "reward for episode 68 (epsilon = 0.009920974201040588): 9.0\n",
      "reward for episode 69 (epsilon = 0.009920974201040588): 8.0\n",
      "reward for episode 70 (epsilon = 0.009920974201040588): 8.0\n",
      "reward for episode 71 (epsilon = 0.009920974201040588): 9.0\n",
      "reward for episode 72 (epsilon = 0.009920974201040588): 9.0\n",
      "reward for episode 73 (epsilon = 0.009920974201040588): 9.0\n",
      "reward for episode 74 (epsilon = 0.009920974201040588): 10.0\n",
      "reward for episode 75 (epsilon = 0.009920974201040588): 10.0\n",
      "reward for episode 76 (epsilon = 0.009920974201040588): 10.0\n",
      "reward for episode 77 (epsilon = 0.009920974201040588): 9.0\n",
      "reward for episode 78 (epsilon = 0.009920974201040588): 8.0\n",
      "reward for episode 79 (epsilon = 0.009920974201040588): 9.0\n",
      "reward for episode 80 (epsilon = 0.009920974201040588): 9.0\n",
      "reward for episode 81 (epsilon = 0.009920974201040588): 9.0\n",
      "reward for episode 82 (epsilon = 0.009920974201040588): 8.0\n",
      "reward for episode 83 (epsilon = 0.009920974201040588): 9.0\n",
      "reward for episode 84 (epsilon = 0.009920974201040588): 9.0\n",
      "reward for episode 85 (epsilon = 0.009920974201040588): 9.0\n",
      "reward for episode 86 (epsilon = 0.009920974201040588): 10.0\n",
      "reward for episode 87 (epsilon = 0.009920974201040588): 9.0\n",
      "reward for episode 88 (epsilon = 0.009920974201040588): 11.0\n",
      "reward for episode 89 (epsilon = 0.009920974201040588): 10.0\n",
      "reward for episode 90 (epsilon = 0.009920974201040588): 9.0\n",
      "reward for episode 91 (epsilon = 0.009920974201040588): 10.0\n",
      "reward for episode 92 (epsilon = 0.009920974201040588): 8.0\n",
      "reward for episode 93 (epsilon = 0.009920974201040588): 9.0\n",
      "reward for episode 94 (epsilon = 0.009920974201040588): 10.0\n",
      "reward for episode 95 (epsilon = 0.009920974201040588): 10.0\n",
      "reward for episode 96 (epsilon = 0.009920974201040588): 9.0\n",
      "reward for episode 97 (epsilon = 0.009920974201040588): 9.0\n",
      "reward for episode 98 (epsilon = 0.009920974201040588): 10.0\n",
      "reward for episode 99 (epsilon = 0.009920974201040588): 10.0\n",
      "done!\n"
     ]
    }
   ],
   "source": [
    "exp_buffer.clear()\n",
    "episodes = 100\n",
    "rewards = []\n",
    "epsilon = 1.0\n",
    "try:\n",
    "    print(\"starting!\")\n",
    "    for episode in range(episodes):\n",
    "        done = False\n",
    "        state = env.reset()\n",
    "        next_state = None\n",
    "        total_reward=0\n",
    "        while not done:\n",
    "#             print(len(exp_buffer))\n",
    "            action = get_action(state)\n",
    "            #next_state, reward, done, info = env.step(action)\n",
    "            experience = env.step(action)\n",
    "            done = experience[2]\n",
    "            exp_buffer.append([state, action, *experience])\n",
    "            total_reward+=experience[1]\n",
    "            train_from_buffer()\n",
    "            #print(len(exp_buffer))\n",
    "            #clear_output(wait=True\n",
    "        rewards.append(total_reward)\n",
    "        print(f\"reward for episode {episode} (epsilon = {epsilon}): {total_reward}\")\n",
    "    print(\"done!\")\n",
    "finally:\n",
    "    env.close()"
   ]
  },
  {
   "cell_type": "code",
   "execution_count": 76,
   "id": "stylish-singer",
   "metadata": {},
   "outputs": [
    {
     "data": {
      "image/png": "[encoded data removed]",
      "text/plain": [
       "<Figure size 432x288 with 1 Axes>"
      ]
     },
     "metadata": {
      "needs_background": "light"
     },
     "output_type": "display_data"
    }
   ],
   "source": [
    "plt.plot(rewards)\n",
    "plt.show()"
   ]
  },
  {
   "cell_type": "code",
   "execution_count": 16,
   "id": "hybrid-offense",
   "metadata": {},
   "outputs": [
    {
     "name": "stdout",
     "output_type": "stream",
     "text": [
      "(1, 4)\n",
      "tf.Tensor([[-2.4178839 -4.444152 ]], shape=(1, 2), dtype=float32)\n"
     ]
    }
   ],
   "source": [
    "x = keras.layers.Dense(2,input_shape=(4,))\n",
    "input = np.expand_dims([1,2,3,4],0)\n",
    "print(input.shape)\n",
    "print(x(input))"
   ]
  },
  {
   "cell_type": "code",
   "execution_count": null,
   "id": "religious-orchestra",
   "metadata": {},
   "outputs": [],
   "source": []
  }
 ],
 "metadata": {
  "interpreter": {
   "hash": "1baa965d5efe3ac65b79dfc60c0d706280b1da80fedb7760faf2759126c4f253"
  },
  "kernelspec": {
   "display_name": "Python 3",
   "language": "python",
   "name": "python3"
  },
  "language_info": {
   "codemirror_mode": {
    "name": "ipython",
    "version": 3
   },
   "file_extension": ".py",
   "mimetype": "text/x-python",
   "name": "python",
   "nbconvert_exporter": "python",
   "pygments_lexer": "ipython3",
   "version": "3.8.6"
  }
 },
 "nbformat": 4,
 "nbformat_minor": 5
}
